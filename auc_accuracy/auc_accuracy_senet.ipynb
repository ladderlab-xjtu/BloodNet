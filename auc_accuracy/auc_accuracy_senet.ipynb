{
 "cells": [
  {
   "cell_type": "code",
   "execution_count": 1,
   "id": "85124835",
   "metadata": {},
   "outputs": [],
   "source": [
    "import os\n",
    "os.environ[\"KMP_DUPLICATE_LIB_OK\"]  =  \"TRUE\"\n",
    "import collections\n",
    "import math\n",
    "import os\n",
    "import shutil\n",
    "import pandas as pd\n",
    "import torch\n",
    "import torchvision\n",
    "from torch import nn\n",
    "from d2l import torch as d2l"
   ]
  },
  {
   "cell_type": "code",
   "execution_count": 2,
   "id": "42aa37a1",
   "metadata": {},
   "outputs": [],
   "source": [
    "from torch.nn import functional as F\n",
    "class SELayer(nn.Module):\n",
    "    def __init__(self, channel, reduction=16):\n",
    "        super(SELayer, self).__init__()\n",
    "        self.avg_pool = nn.AdaptiveAvgPool2d(1)\n",
    "        self.fc = nn.Sequential(\n",
    "            nn.Linear(channel, channel // reduction, bias=False),\n",
    "            nn.ReLU(inplace=True),\n",
    "            nn.Linear(channel // reduction, channel, bias=False),\n",
    "            nn.Sigmoid()\n",
    "        )\n",
    "\n",
    "    def forward(self, x):\n",
    "        b, c, _, _ = x.size()\n",
    "        y = self.avg_pool(x).view(b, c)\n",
    "        y = self.fc(y).view(b, c, 1, 1)\n",
    "        return x * y.expand_as(x)\n",
    "\n",
    "\n",
    "class seResidual(nn.Module):  #@save\n",
    "    def __init__(self, input_channels, num_channels,\n",
    "                 use_1x1conv=False, strides=1,reduction=16):\n",
    "        super().__init__()\n",
    "        self.conv1 = nn.Conv2d(input_channels, num_channels,\n",
    "                               kernel_size=3, padding=1, stride=strides)\n",
    "        self.conv2 = nn.Conv2d(num_channels, num_channels,\n",
    "                               kernel_size=3, padding=1)\n",
    "        if use_1x1conv:\n",
    "            self.conv3 = nn.Conv2d(input_channels, num_channels,\n",
    "                                   kernel_size=1, stride=strides)\n",
    "        else:\n",
    "            self.conv3 = None\n",
    "        self.bn1 = nn.BatchNorm2d(num_channels)\n",
    "        self.bn2 = nn.BatchNorm2d(num_channels)\n",
    "        self.se = SELayer(num_channels, reduction)\n",
    "        self.relu = nn.ReLU(inplace=True)\n",
    "\n",
    "    def forward(self, X):\n",
    "        Y = F.relu(self.bn1(self.conv1(X)))\n",
    "        Y = self.se(self.bn2(self.conv2(Y)))\n",
    "        if self.conv3:\n",
    "            X = self.conv3(X)\n",
    "        Y += X\n",
    "        return F.relu(Y)\n",
    "    \n",
    "def senet34(num_classes, in_channels=1):\n",
    "    \n",
    "    def resnet_block(in_channels, out_channels, num_residuals,\n",
    "                     first_block=False):\n",
    "        blk = []\n",
    "        for i in range(num_residuals):\n",
    "            if i == 0 and not first_block:\n",
    "                blk.append(seResidual(in_channels, out_channels,\n",
    "                                        use_1x1conv=True, strides=2))\n",
    "            else:\n",
    "                blk.append(seResidual(out_channels, out_channels))\n",
    "        return nn.Sequential(*blk)\n",
    "\n",
    "    \n",
    "    net = nn.Sequential(\n",
    "        nn.Conv2d(in_channels, 64, kernel_size=3, stride=1, padding=1),\n",
    "        nn.BatchNorm2d(64),\n",
    "        nn.ReLU())\n",
    "    net.add_module(\"resnet_block1\", resnet_block(64, 64, 3, first_block=True))\n",
    "    net.add_module(\"resnet_block2\", resnet_block(64, 128, 4))\n",
    "    net.add_module(\"resnet_block3\", resnet_block(128, 256, 6))\n",
    "    net.add_module(\"resnet_block4\", resnet_block(256, 512, 3))\n",
    "    net.add_module(\"global_avg_pool\", nn.AdaptiveAvgPool2d((1,1)))\n",
    "    net.add_module(\"fc\", nn.Sequential(nn.Flatten(),\n",
    "                                       nn.Linear(512, num_classes)))\n",
    "    return net"
   ]
  },
  {
   "cell_type": "code",
   "execution_count": 3,
   "id": "ca0329c7",
   "metadata": {},
   "outputs": [],
   "source": [
    "def get_net():\n",
    "    num_classes = 5\n",
    "    net = senet34(num_classes, 3)\n",
    "    return net\n",
    "\n",
    "a=get_net()"
   ]
  },
  {
   "cell_type": "code",
   "execution_count": 4,
   "id": "1362255f",
   "metadata": {},
   "outputs": [],
   "source": [
    "a.load_state_dict(torch.load('./aaa/aaa/rese34/network_params.pth'))\n",
    "model=a.eval()"
   ]
  },
  {
   "cell_type": "code",
   "execution_count": 5,
   "id": "4886e59f",
   "metadata": {},
   "outputs": [],
   "source": [
    "datadir=\"/home/omnisky/shenxiaochen/\"\n",
    "transform_test = torchvision.transforms.Compose([\n",
    "\n",
    "    torchvision.transforms.CenterCrop(96),\n",
    "    torchvision.transforms.ToTensor(),\n",
    "    torchvision.transforms.Normalize([0.4914, 0.4822, 0.4465],\n",
    "                                     [0.2023, 0.1994, 0.2010])])\n",
    "\n",
    "test_ds= torchvision.datasets.ImageFolder(\n",
    "    os.path.join(datadir, 'test'),\n",
    "    transform=transform_test)\n",
    "\n",
    "batch_size=128\n",
    "test_iter = torch.utils.data.DataLoader(test_ds, batch_size, shuffle=False,\n",
    "                                        drop_last=False)\n",
    "\n",
    "def evaluate_accuracy_gpu(net, data_iter, device=None): \n",
    "    \n",
    "    if isinstance(net, torch.nn.Module):\n",
    "        net.eval()  \n",
    "        if not device:\n",
    "            device = next(iter(net.parameters())).device\n",
    "    \n",
    "    metric = d2l.Accumulator(2)\n",
    "    for X, y in data_iter:\n",
    "        if isinstance(X, list):\n",
    "            \n",
    "            X = [x.to(device) for x in X]\n",
    "        else:\n",
    "            X = X.to(device)\n",
    "        y = y.to(device)\n",
    "        metric.add(d2l.accuracy(net(X), y), y.numel())\n",
    "    return metric[0] / metric[1]"
   ]
  },
  {
   "cell_type": "code",
   "execution_count": 6,
   "id": "df3a6635",
   "metadata": {},
   "outputs": [
    {
     "data": {
      "text/plain": [
       "0.9558879938626774"
      ]
     },
     "execution_count": 6,
     "metadata": {},
     "output_type": "execute_result"
    }
   ],
   "source": [
    "# accuracy valid\n",
    "device=d2l.try_gpu()\n",
    "evaluate_accuracy_gpu(model.to(device),test_iter)"
   ]
  },
  {
   "cell_type": "code",
   "execution_count": 7,
   "id": "ed630c03",
   "metadata": {},
   "outputs": [],
   "source": [
    "import numpy as np\n",
    "from sklearn.metrics import roc_auc_score,accuracy_score,precision_score,recall_score,f1_score"
   ]
  },
  {
   "cell_type": "code",
   "execution_count": 8,
   "id": "296e0a9f",
   "metadata": {},
   "outputs": [],
   "source": [
    "# confusion matrix\n",
    "model.to(device)\n",
    "model.eval()\n",
    "conf_mat=np.zeros((5,5))\n",
    "for i,data in enumerate(test_iter):\n",
    "    inputs, labels=data\n",
    "    inputs, labels= inputs.to(device), labels.to(device)\n",
    "    with torch.no_grad():\n",
    "        outputs=model(inputs)\n",
    "        _, predicted = torch.max(outputs.data,1)\n",
    "        for j in range(len(labels)):\n",
    "            cate_i=labels[j].cpu().numpy()\n",
    "            pre_i =predicted[j].cpu().numpy()\n",
    "            conf_mat[cate_i,pre_i]+=1"
   ]
  },
  {
   "cell_type": "code",
   "execution_count": 9,
   "id": "069ee753",
   "metadata": {},
   "outputs": [],
   "source": [
    "valid_confusematrix=pd.DataFrame(conf_mat)"
   ]
  },
  {
   "cell_type": "code",
   "execution_count": 10,
   "id": "3b1988e6",
   "metadata": {},
   "outputs": [
    {
     "data": {
      "text/html": [
       "<div>\n",
       "<style scoped>\n",
       "    .dataframe tbody tr th:only-of-type {\n",
       "        vertical-align: middle;\n",
       "    }\n",
       "\n",
       "    .dataframe tbody tr th {\n",
       "        vertical-align: top;\n",
       "    }\n",
       "\n",
       "    .dataframe thead th {\n",
       "        text-align: right;\n",
       "    }\n",
       "</style>\n",
       "<table border=\"1\" class=\"dataframe\">\n",
       "  <thead>\n",
       "    <tr style=\"text-align: right;\">\n",
       "      <th></th>\n",
       "      <th>0</th>\n",
       "      <th>1</th>\n",
       "      <th>2</th>\n",
       "      <th>3</th>\n",
       "      <th>4</th>\n",
       "    </tr>\n",
       "  </thead>\n",
       "  <tbody>\n",
       "    <tr>\n",
       "      <th>0</th>\n",
       "      <td>1069.0</td>\n",
       "      <td>5.0</td>\n",
       "      <td>2.0</td>\n",
       "      <td>0.0</td>\n",
       "      <td>0.0</td>\n",
       "    </tr>\n",
       "    <tr>\n",
       "      <th>1</th>\n",
       "      <td>0.0</td>\n",
       "      <td>1148.0</td>\n",
       "      <td>0.0</td>\n",
       "      <td>0.0</td>\n",
       "      <td>0.0</td>\n",
       "    </tr>\n",
       "    <tr>\n",
       "      <th>2</th>\n",
       "      <td>18.0</td>\n",
       "      <td>11.0</td>\n",
       "      <td>931.0</td>\n",
       "      <td>2.0</td>\n",
       "      <td>0.0</td>\n",
       "    </tr>\n",
       "    <tr>\n",
       "      <th>3</th>\n",
       "      <td>43.0</td>\n",
       "      <td>0.0</td>\n",
       "      <td>143.0</td>\n",
       "      <td>824.0</td>\n",
       "      <td>0.0</td>\n",
       "    </tr>\n",
       "    <tr>\n",
       "      <th>4</th>\n",
       "      <td>0.0</td>\n",
       "      <td>6.0</td>\n",
       "      <td>0.0</td>\n",
       "      <td>0.0</td>\n",
       "      <td>1012.0</td>\n",
       "    </tr>\n",
       "  </tbody>\n",
       "</table>\n",
       "</div>"
      ],
      "text/plain": [
       "        0       1      2      3       4\n",
       "0  1069.0     5.0    2.0    0.0     0.0\n",
       "1     0.0  1148.0    0.0    0.0     0.0\n",
       "2    18.0    11.0  931.0    2.0     0.0\n",
       "3    43.0     0.0  143.0  824.0     0.0\n",
       "4     0.0     6.0    0.0    0.0  1012.0"
      ]
     },
     "execution_count": 10,
     "metadata": {},
     "output_type": "execute_result"
    }
   ],
   "source": [
    "valid_confusematrix"
   ]
  },
  {
   "cell_type": "code",
   "execution_count": 8,
   "id": "6a315bdd",
   "metadata": {},
   "outputs": [],
   "source": [
    "preds=[]\n",
    "true=[]\n",
    "with torch.no_grad():\n",
    "    for x,y in test_iter:\n",
    "        x=x.to(device)\n",
    "        y=y.to(device)\n",
    "        output=model(x)\n",
    "        output=output.argmax(dim=1)\n",
    "        preds.extend(output.detach().cpu().numpy())\n",
    "        true.extend(y.detach().cpu().numpy())\n",
    "        \n",
    "    "
   ]
  },
  {
   "cell_type": "code",
   "execution_count": 9,
   "id": "e62c73b2",
   "metadata": {},
   "outputs": [
    {
     "data": {
      "text/plain": [
       "5214"
      ]
     },
     "execution_count": 9,
     "metadata": {},
     "output_type": "execute_result"
    }
   ],
   "source": [
    "len(preds)"
   ]
  },
  {
   "cell_type": "code",
   "execution_count": 10,
   "id": "083faafe",
   "metadata": {},
   "outputs": [
    {
     "data": {
      "text/plain": [
       "0.9558879938626774"
      ]
     },
     "execution_count": 10,
     "metadata": {},
     "output_type": "execute_result"
    }
   ],
   "source": [
    "accuracy_score(true,preds)"
   ]
  },
  {
   "cell_type": "code",
   "execution_count": 11,
   "id": "fcb22a5d",
   "metadata": {},
   "outputs": [
    {
     "data": {
      "text/plain": [
       "0.9542435132197971"
      ]
     },
     "execution_count": 11,
     "metadata": {},
     "output_type": "execute_result"
    }
   ],
   "source": [
    "recall_score(true,preds,average='macro')"
   ]
  },
  {
   "cell_type": "code",
   "execution_count": 12,
   "id": "ccb27f66",
   "metadata": {},
   "outputs": [
    {
     "data": {
      "text/plain": [
       "0.9535945364040718"
      ]
     },
     "execution_count": 12,
     "metadata": {},
     "output_type": "execute_result"
    }
   ],
   "source": [
    "f1_score(true,preds,average='macro')"
   ]
  },
  {
   "cell_type": "code",
   "execution_count": 13,
   "id": "51b15d12",
   "metadata": {},
   "outputs": [
    {
     "data": {
      "text/plain": [
       "0.9580069216986609"
      ]
     },
     "execution_count": 13,
     "metadata": {},
     "output_type": "execute_result"
    }
   ],
   "source": [
    "precision_score(true,preds,average='macro')"
   ]
  },
  {
   "cell_type": "code",
   "execution_count": 14,
   "id": "66d4793d",
   "metadata": {},
   "outputs": [],
   "source": [
    "from sklearn.preprocessing import label_binarize"
   ]
  },
  {
   "cell_type": "code",
   "execution_count": 15,
   "id": "9e9aa949",
   "metadata": {},
   "outputs": [],
   "source": [
    "test_trues=label_binarize(true,classes=[i for i in range(5)])\n",
    "test_preds=label_binarize(preds,classes=[i for i in range(5)])"
   ]
  },
  {
   "cell_type": "code",
   "execution_count": 16,
   "id": "efa2cc81",
   "metadata": {},
   "outputs": [
    {
     "data": {
      "text/plain": [
       "0.9724299961641732"
      ]
     },
     "execution_count": 16,
     "metadata": {},
     "output_type": "execute_result"
    }
   ],
   "source": [
    "roc_auc_score(test_trues.ravel(),test_preds.ravel"
   ]
  },
  {
   "cell_type": "code",
   "execution_count": 11,
   "id": "1ccfb29d",
   "metadata": {},
   "outputs": [],
   "source": [
    "outsidetest_ds= torchvision.datasets.ImageFolder(\n",
    "    os.path.join(datadir, 'outside_test'),\n",
    "    transform=transform_test) \n",
    "outsidetest_iter = torch.utils.data.DataLoader(outsidetest_ds, batch_size, shuffle=False,\n",
    "                                        drop_last=False)"
   ]
  },
  {
   "cell_type": "code",
   "execution_count": 12,
   "id": "513e2d10",
   "metadata": {},
   "outputs": [],
   "source": [
    "# confusion matrix\n",
    "model.to(device)\n",
    "model.eval()\n",
    "conf_mat=np.zeros((5,5))\n",
    "for i,data in enumerate(outsidetest_iter):\n",
    "    inputs, labels=data\n",
    "    inputs, labels= inputs.to(device), labels.to(device)\n",
    "    with torch.no_grad():\n",
    "        outputs=model(inputs)\n",
    "        _, predicted = torch.max(outputs.data,1)\n",
    "        for j in range(len(labels)):\n",
    "            cate_i=labels[j].cpu().numpy()\n",
    "            pre_i =predicted[j].cpu().numpy()\n",
    "            conf_mat[cate_i,pre_i]+=1"
   ]
  },
  {
   "cell_type": "code",
   "execution_count": 13,
   "id": "04c6f3c5",
   "metadata": {},
   "outputs": [
    {
     "data": {
      "text/html": [
       "<div>\n",
       "<style scoped>\n",
       "    .dataframe tbody tr th:only-of-type {\n",
       "        vertical-align: middle;\n",
       "    }\n",
       "\n",
       "    .dataframe tbody tr th {\n",
       "        vertical-align: top;\n",
       "    }\n",
       "\n",
       "    .dataframe thead th {\n",
       "        text-align: right;\n",
       "    }\n",
       "</style>\n",
       "<table border=\"1\" class=\"dataframe\">\n",
       "  <thead>\n",
       "    <tr style=\"text-align: right;\">\n",
       "      <th></th>\n",
       "      <th>0</th>\n",
       "      <th>1</th>\n",
       "      <th>2</th>\n",
       "      <th>3</th>\n",
       "      <th>4</th>\n",
       "    </tr>\n",
       "  </thead>\n",
       "  <tbody>\n",
       "    <tr>\n",
       "      <th>0</th>\n",
       "      <td>5148.0</td>\n",
       "      <td>45.0</td>\n",
       "      <td>85.0</td>\n",
       "      <td>1.0</td>\n",
       "      <td>10.0</td>\n",
       "    </tr>\n",
       "    <tr>\n",
       "      <th>1</th>\n",
       "      <td>23.0</td>\n",
       "      <td>5137.0</td>\n",
       "      <td>4.0</td>\n",
       "      <td>0.0</td>\n",
       "      <td>63.0</td>\n",
       "    </tr>\n",
       "    <tr>\n",
       "      <th>2</th>\n",
       "      <td>111.0</td>\n",
       "      <td>8.0</td>\n",
       "      <td>4477.0</td>\n",
       "      <td>428.0</td>\n",
       "      <td>0.0</td>\n",
       "    </tr>\n",
       "    <tr>\n",
       "      <th>3</th>\n",
       "      <td>239.0</td>\n",
       "      <td>5.0</td>\n",
       "      <td>1816.0</td>\n",
       "      <td>3055.0</td>\n",
       "      <td>0.0</td>\n",
       "    </tr>\n",
       "    <tr>\n",
       "      <th>4</th>\n",
       "      <td>189.0</td>\n",
       "      <td>124.0</td>\n",
       "      <td>11.0</td>\n",
       "      <td>0.0</td>\n",
       "      <td>1005.0</td>\n",
       "    </tr>\n",
       "  </tbody>\n",
       "</table>\n",
       "</div>"
      ],
      "text/plain": [
       "        0       1       2       3       4\n",
       "0  5148.0    45.0    85.0     1.0    10.0\n",
       "1    23.0  5137.0     4.0     0.0    63.0\n",
       "2   111.0     8.0  4477.0   428.0     0.0\n",
       "3   239.0     5.0  1816.0  3055.0     0.0\n",
       "4   189.0   124.0    11.0     0.0  1005.0"
      ]
     },
     "execution_count": 13,
     "metadata": {},
     "output_type": "execute_result"
    }
   ],
   "source": [
    "pd.DataFrame(conf_mat)"
   ]
  },
  {
   "cell_type": "code",
   "execution_count": 14,
   "id": "efdcf5af",
   "metadata": {},
   "outputs": [
    {
     "data": {
      "text/plain": [
       "0.8561681222707423"
      ]
     },
     "execution_count": 14,
     "metadata": {},
     "output_type": "execute_result"
    }
   ],
   "source": [
    "evaluate_accuracy_gpu(model.to(device),outsidetest_iter)"
   ]
  },
  {
   "cell_type": "code",
   "execution_count": 19,
   "id": "dd86305c",
   "metadata": {},
   "outputs": [],
   "source": [
    "o_preds=[]\n",
    "o_true=[]\n",
    "with torch.no_grad():\n",
    "    for x,y in outsidetest_iter:\n",
    "        x=x.to(device)\n",
    "        y=y.to(device)\n",
    "        output=model(x)\n",
    "        output=output.argmax(dim=1)\n",
    "        o_preds.extend(output.detach().cpu().numpy())\n",
    "        o_true.extend(y.detach().cpu().numpy())"
   ]
  },
  {
   "cell_type": "code",
   "execution_count": 20,
   "id": "400f71f8",
   "metadata": {},
   "outputs": [
    {
     "data": {
      "text/plain": [
       "0.8561681222707423"
      ]
     },
     "execution_count": 20,
     "metadata": {},
     "output_type": "execute_result"
    }
   ],
   "source": [
    "accuracy_score(o_true,o_preds)"
   ]
  },
  {
   "cell_type": "code",
   "execution_count": 21,
   "id": "ec948df7",
   "metadata": {},
   "outputs": [
    {
     "data": {
      "text/plain": [
       "0.8401431690119923"
      ]
     },
     "execution_count": 21,
     "metadata": {},
     "output_type": "execute_result"
    }
   ],
   "source": [
    "recall_score(o_true,o_preds,average='macro')"
   ]
  },
  {
   "cell_type": "code",
   "execution_count": 22,
   "id": "63c4ae0f",
   "metadata": {},
   "outputs": [
    {
     "data": {
      "text/plain": [
       "0.8480349070624209"
      ]
     },
     "execution_count": 22,
     "metadata": {},
     "output_type": "execute_result"
    }
   ],
   "source": [
    "f1_score(o_true,o_preds,average='macro')"
   ]
  },
  {
   "cell_type": "code",
   "execution_count": 24,
   "id": "01bf3dfd",
   "metadata": {},
   "outputs": [],
   "source": [
    "test_trues=label_binarize(o_true,classes=[i for i in range(5)])\n",
    "test_preds=label_binarize(o_preds,classes=[i for i in range(5)])"
   ]
  },
  {
   "cell_type": "code",
   "execution_count": 25,
   "id": "c85e50d0",
   "metadata": {},
   "outputs": [
    {
     "data": {
      "text/plain": [
       "0.9101050764192139"
      ]
     },
     "execution_count": 25,
     "metadata": {},
     "output_type": "execute_result"
    }
   ],
   "source": [
    "roc_auc_score(test_trues.ravel(),test_preds.ravel())"
   ]
  },
  {
   "cell_type": "code",
   "execution_count": null,
   "id": "2be7055e",
   "metadata": {},
   "outputs": [],
   "source": []
  }
 ],
 "metadata": {
  "kernelspec": {
   "display_name": "Python 3",
   "language": "python",
   "name": "python3"
  },
  "language_info": {
   "codemirror_mode": {
    "name": "ipython",
    "version": 3
   },
   "file_extension": ".py",
   "mimetype": "text/x-python",
   "name": "python",
   "nbconvert_exporter": "python",
   "pygments_lexer": "ipython3",
   "version": "3.8.8"
  }
 },
 "nbformat": 4,
 "nbformat_minor": 5
}
