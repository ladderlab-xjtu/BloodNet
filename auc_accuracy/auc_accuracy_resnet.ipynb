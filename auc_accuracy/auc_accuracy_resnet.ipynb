{
 "cells": [
  {
   "cell_type": "code",
   "execution_count": 1,
   "id": "675a7b06",
   "metadata": {},
   "outputs": [],
   "source": [
    "import os\n",
    "os.environ[\"KMP_DUPLICATE_LIB_OK\"]  =  \"TRUE\"\n",
    "import collections\n",
    "import math\n",
    "import os\n",
    "import shutil\n",
    "import pandas as pd\n",
    "import torch\n",
    "import torchvision\n",
    "from torch import nn\n",
    "from d2l import torch as d2l\n",
    "\n",
    "import torch.nn.functional as F\n",
    "import numpy as np\n",
    "import torch\n",
    "from torch import nn\n",
    "from torch.nn import init"
   ]
  },
  {
   "cell_type": "code",
   "execution_count": 2,
   "id": "abce8261",
   "metadata": {},
   "outputs": [],
   "source": [
    "class Residual(nn.Module):  #@save\n",
    "    def __init__(self, input_channels, num_channels,\n",
    "                 use_1x1conv=False, strides=1,reduction=16):\n",
    "        super().__init__()\n",
    "        self.conv1 = nn.Conv2d(input_channels, num_channels,\n",
    "                               kernel_size=3, padding=1, stride=strides)\n",
    "        self.conv2 = nn.Conv2d(num_channels, num_channels,\n",
    "                               kernel_size=3, padding=1)\n",
    "        if use_1x1conv:\n",
    "            self.conv3 = nn.Conv2d(input_channels, num_channels,\n",
    "                                   kernel_size=1, stride=strides)\n",
    "        else:\n",
    "            self.conv3 = None\n",
    "        self.bn1 = nn.BatchNorm2d(num_channels)\n",
    "        self.bn2 = nn.BatchNorm2d(num_channels)\n",
    "        \n",
    "        self.relu = nn.ReLU(inplace=True)\n",
    "\n",
    "    def forward(self, X):\n",
    "        Y = F.relu(self.bn1(self.conv1(X)))\n",
    "        Y = self.bn2(self.conv2(Y))\n",
    "        if self.conv3:\n",
    "            X = self.conv3(X)\n",
    "        Y += X\n",
    "        return F.relu(Y)"
   ]
  },
  {
   "cell_type": "code",
   "execution_count": 3,
   "id": "9ba5ae0d",
   "metadata": {},
   "outputs": [],
   "source": [
    "def resnet34(num_classes, in_channels=1):\n",
    "    \n",
    "    def resnet_block(in_channels, out_channels, num_residuals,\n",
    "                     first_block=False):\n",
    "        blk = []\n",
    "        for i in range(num_residuals):\n",
    "            if i == 0 and not first_block:\n",
    "                blk.append(Residual(in_channels, out_channels,\n",
    "                                        use_1x1conv=True, strides=2))\n",
    "            else:\n",
    "                blk.append(Residual(out_channels, out_channels))\n",
    "        return nn.Sequential(*blk)\n",
    "\n",
    "    \n",
    "    net = nn.Sequential(\n",
    "        nn.Conv2d(in_channels, 64, kernel_size=3, stride=1, padding=1),\n",
    "        nn.BatchNorm2d(64),\n",
    "        nn.ReLU())\n",
    "    net.add_module(\"resnet_block1\", resnet_block(64, 64, 3, first_block=True))\n",
    "    net.add_module(\"resnet_block2\", resnet_block(64, 128, 4))\n",
    "    net.add_module(\"resnet_block3\", resnet_block(128, 256, 6))\n",
    "    net.add_module(\"resnet_block4\", resnet_block(256, 512, 3))\n",
    "    net.add_module(\"global_avg_pool\", nn.AdaptiveAvgPool2d((1,1)))\n",
    "    net.add_module(\"fc\", nn.Sequential(nn.Flatten(),\n",
    "                                       nn.Linear(512, num_classes)))\n",
    "    return net"
   ]
  },
  {
   "cell_type": "code",
   "execution_count": 4,
   "id": "4cb13038",
   "metadata": {},
   "outputs": [],
   "source": [
    "def get_net():\n",
    "    num_classes = 5\n",
    "    net = resnet34(num_classes, 3)\n",
    "    return net\n",
    "\n",
    "model=get_net()"
   ]
  },
  {
   "cell_type": "code",
   "execution_count": 5,
   "id": "bddd4071",
   "metadata": {},
   "outputs": [],
   "source": [
    "model.load_state_dict(torch.load('./aaa/aaa/re34normal/network_params.pth'))\n",
    "model=model.eval()"
   ]
  },
  {
   "cell_type": "code",
   "execution_count": 6,
   "id": "408ba26e",
   "metadata": {},
   "outputs": [],
   "source": [
    "datadir=\"/home/omnisky/shenxiaochen/\"\n",
    "transform_test = torchvision.transforms.Compose([\n",
    "    \n",
    "\n",
    "    torchvision.transforms.CenterCrop(96),\n",
    "    torchvision.transforms.ToTensor(),\n",
    "    torchvision.transforms.Normalize([0.4914, 0.4822, 0.4465],\n",
    "                                     [0.2023, 0.1994, 0.2010])])\n",
    "\n",
    "test_ds= torchvision.datasets.ImageFolder(\n",
    "    os.path.join(datadir, 'test'),\n",
    "    transform=transform_test)\n",
    "\n",
    "batch_size=128\n",
    "test_iter = torch.utils.data.DataLoader(test_ds, batch_size, shuffle=False,\n",
    "                                        drop_last=False)\n",
    "\n",
    "def evaluate_accuracy_gpu(net, data_iter, device=None): #@save\n",
    "  \n",
    "    if isinstance(net, torch.nn.Module):\n",
    "        net.eval()  \n",
    "        if not device:\n",
    "            device = next(iter(net.parameters())).device\n",
    "    \n",
    "    metric = d2l.Accumulator(2)\n",
    "    for X, y in data_iter:\n",
    "        if isinstance(X, list):\n",
    "            \n",
    "            X = [x.to(device) for x in X]\n",
    "        else:\n",
    "            X = X.to(device)\n",
    "        y = y.to(device)\n",
    "        metric.add(d2l.accuracy(net(X), y), y.numel())\n",
    "    return metric[0] / metric[1]"
   ]
  },
  {
   "cell_type": "code",
   "execution_count": 7,
   "id": "f86efdb8",
   "metadata": {},
   "outputs": [
    {
     "data": {
      "text/plain": [
       "0.9405446873801304"
      ]
     },
     "execution_count": 7,
     "metadata": {},
     "output_type": "execute_result"
    }
   ],
   "source": [
    "# accuracy valid\n",
    "device=d2l.try_gpu()\n",
    "evaluate_accuracy_gpu(model.to(device),test_iter)"
   ]
  },
  {
   "cell_type": "code",
   "execution_count": 8,
   "id": "c13a70da",
   "metadata": {},
   "outputs": [],
   "source": [
    "import numpy as np\n",
    "from sklearn.metrics import roc_auc_score,accuracy_score,precision_score,recall_score,f1_score"
   ]
  },
  {
   "cell_type": "code",
   "execution_count": 9,
   "id": "11d2a53d",
   "metadata": {},
   "outputs": [],
   "source": [
    "# confusion matrix\n",
    "model.to(device)\n",
    "model.eval()\n",
    "conf_mat=np.zeros((5,5))\n",
    "for i,data in enumerate(test_iter):\n",
    "    inputs, labels=data\n",
    "    inputs, labels= inputs.to(device), labels.to(device)\n",
    "    with torch.no_grad():\n",
    "        outputs=model(inputs)\n",
    "        _, predicted = torch.max(outputs.data,1)\n",
    "        for j in range(len(labels)):\n",
    "            cate_i=labels[j].cpu().numpy()\n",
    "            pre_i =predicted[j].cpu().numpy()\n",
    "            conf_mat[cate_i,pre_i]+=1"
   ]
  },
  {
   "cell_type": "code",
   "execution_count": 11,
   "id": "72633003",
   "metadata": {},
   "outputs": [],
   "source": [
    "valid_confusematrix=pd.DataFrame(conf_mat)"
   ]
  },
  {
   "cell_type": "code",
   "execution_count": 12,
   "id": "ee758b51",
   "metadata": {},
   "outputs": [
    {
     "data": {
      "text/html": [
       "<div>\n",
       "<style scoped>\n",
       "    .dataframe tbody tr th:only-of-type {\n",
       "        vertical-align: middle;\n",
       "    }\n",
       "\n",
       "    .dataframe tbody tr th {\n",
       "        vertical-align: top;\n",
       "    }\n",
       "\n",
       "    .dataframe thead th {\n",
       "        text-align: right;\n",
       "    }\n",
       "</style>\n",
       "<table border=\"1\" class=\"dataframe\">\n",
       "  <thead>\n",
       "    <tr style=\"text-align: right;\">\n",
       "      <th></th>\n",
       "      <th>0</th>\n",
       "      <th>1</th>\n",
       "      <th>2</th>\n",
       "      <th>3</th>\n",
       "      <th>4</th>\n",
       "    </tr>\n",
       "  </thead>\n",
       "  <tbody>\n",
       "    <tr>\n",
       "      <th>0</th>\n",
       "      <td>1060.0</td>\n",
       "      <td>3.0</td>\n",
       "      <td>12.0</td>\n",
       "      <td>0.0</td>\n",
       "      <td>1.0</td>\n",
       "    </tr>\n",
       "    <tr>\n",
       "      <th>1</th>\n",
       "      <td>1.0</td>\n",
       "      <td>1139.0</td>\n",
       "      <td>1.0</td>\n",
       "      <td>0.0</td>\n",
       "      <td>7.0</td>\n",
       "    </tr>\n",
       "    <tr>\n",
       "      <th>2</th>\n",
       "      <td>36.0</td>\n",
       "      <td>1.0</td>\n",
       "      <td>918.0</td>\n",
       "      <td>6.0</td>\n",
       "      <td>1.0</td>\n",
       "    </tr>\n",
       "    <tr>\n",
       "      <th>3</th>\n",
       "      <td>103.0</td>\n",
       "      <td>0.0</td>\n",
       "      <td>138.0</td>\n",
       "      <td>769.0</td>\n",
       "      <td>0.0</td>\n",
       "    </tr>\n",
       "    <tr>\n",
       "      <th>4</th>\n",
       "      <td>0.0</td>\n",
       "      <td>0.0</td>\n",
       "      <td>0.0</td>\n",
       "      <td>0.0</td>\n",
       "      <td>1018.0</td>\n",
       "    </tr>\n",
       "  </tbody>\n",
       "</table>\n",
       "</div>"
      ],
      "text/plain": [
       "        0       1      2      3       4\n",
       "0  1060.0     3.0   12.0    0.0     1.0\n",
       "1     1.0  1139.0    1.0    0.0     7.0\n",
       "2    36.0     1.0  918.0    6.0     1.0\n",
       "3   103.0     0.0  138.0  769.0     0.0\n",
       "4     0.0     0.0    0.0    0.0  1018.0"
      ]
     },
     "execution_count": 12,
     "metadata": {},
     "output_type": "execute_result"
    }
   ],
   "source": [
    "valid_confusematrix"
   ]
  },
  {
   "cell_type": "code",
   "execution_count": 13,
   "id": "cc6e9746",
   "metadata": {},
   "outputs": [],
   "source": [
    "preds=[]\n",
    "true=[]\n",
    "with torch.no_grad():\n",
    "    for x,y in test_iter:\n",
    "        x=x.to(device)\n",
    "        y=y.to(device)\n",
    "        output=model(x)\n",
    "        output=output.argmax(dim=1)\n",
    "        preds.extend(output.detach().cpu().numpy())\n",
    "        true.extend(y.detach().cpu().numpy())\n",
    "        \n",
    "    "
   ]
  },
  {
   "cell_type": "code",
   "execution_count": 14,
   "id": "0383e0d7",
   "metadata": {},
   "outputs": [
    {
     "data": {
      "text/plain": [
       "0.9405446873801304"
      ]
     },
     "execution_count": 14,
     "metadata": {},
     "output_type": "execute_result"
    }
   ],
   "source": [
    "accuracy_score(true,preds)"
   ]
  },
  {
   "cell_type": "code",
   "execution_count": 15,
   "id": "06c5261f",
   "metadata": {},
   "outputs": [
    {
     "data": {
      "text/plain": [
       "0.9385876966291248"
      ]
     },
     "execution_count": 15,
     "metadata": {},
     "output_type": "execute_result"
    }
   ],
   "source": [
    "recall_score(true,preds,average='macro')"
   ]
  },
  {
   "cell_type": "code",
   "execution_count": 16,
   "id": "111a35e7",
   "metadata": {},
   "outputs": [
    {
     "data": {
      "text/plain": [
       "0.9373992352995449"
      ]
     },
     "execution_count": 16,
     "metadata": {},
     "output_type": "execute_result"
    }
   ],
   "source": [
    "f1_score(true,preds,average='macro')"
   ]
  },
  {
   "cell_type": "code",
   "execution_count": 17,
   "id": "ba6fa001",
   "metadata": {},
   "outputs": [
    {
     "data": {
      "text/plain": [
       "0.9444149877666403"
      ]
     },
     "execution_count": 17,
     "metadata": {},
     "output_type": "execute_result"
    }
   ],
   "source": [
    "precision_score(true,preds,average='macro')"
   ]
  },
  {
   "cell_type": "code",
   "execution_count": 16,
   "id": "44486cb8",
   "metadata": {},
   "outputs": [],
   "source": [
    "from sklearn.preprocessing import label_binarize"
   ]
  },
  {
   "cell_type": "code",
   "execution_count": 17,
   "id": "ac7466ad",
   "metadata": {},
   "outputs": [],
   "source": [
    "test_trues=label_binarize(true,classes=[i for i in range(5)])\n",
    "test_preds=label_binarize(preds,classes=[i for i in range(5)])"
   ]
  },
  {
   "cell_type": "code",
   "execution_count": 18,
   "id": "5bd1166e",
   "metadata": {},
   "outputs": [
    {
     "data": {
      "text/plain": [
       "0.9628404296125815"
      ]
     },
     "execution_count": 18,
     "metadata": {},
     "output_type": "execute_result"
    }
   ],
   "source": [
    "roc_auc_score(test_trues.ravel(),test_preds.ravel())# micro"
   ]
  },
  {
   "cell_type": "code",
   "execution_count": 18,
   "id": "683225e8",
   "metadata": {},
   "outputs": [],
   "source": [
    "outsidetest_ds= torchvision.datasets.ImageFolder(\n",
    "    os.path.join(datadir, 'outside_test'),\n",
    "    transform=transform_test) \n",
    "outsidetest_iter = torch.utils.data.DataLoader(outsidetest_ds, batch_size, shuffle=False,\n",
    "                                        drop_last=False)"
   ]
  },
  {
   "cell_type": "code",
   "execution_count": 19,
   "id": "dc709876",
   "metadata": {},
   "outputs": [
    {
     "data": {
      "text/plain": [
       "0.8122725618631732"
      ]
     },
     "execution_count": 19,
     "metadata": {},
     "output_type": "execute_result"
    }
   ],
   "source": [
    "evaluate_accuracy_gpu(model.to(device),outsidetest_iter)"
   ]
  },
  {
   "cell_type": "code",
   "execution_count": 20,
   "id": "8a27bccc",
   "metadata": {},
   "outputs": [],
   "source": [
    "# confusion matrix\n",
    "model.to(device)\n",
    "model.eval()\n",
    "conf_mat=np.zeros((5,5))\n",
    "for i,data in enumerate(outsidetest_iter):\n",
    "    inputs, labels=data\n",
    "    inputs, labels= inputs.to(device), labels.to(device)\n",
    "    with torch.no_grad():\n",
    "        outputs=model(inputs)\n",
    "        _, predicted = torch.max(outputs.data,1)\n",
    "        for j in range(len(labels)):\n",
    "            cate_i=labels[j].cpu().numpy()\n",
    "            pre_i =predicted[j].cpu().numpy()\n",
    "            conf_mat[cate_i,pre_i]+=1"
   ]
  },
  {
   "cell_type": "code",
   "execution_count": 21,
   "id": "78592df7",
   "metadata": {},
   "outputs": [
    {
     "data": {
      "text/html": [
       "<div>\n",
       "<style scoped>\n",
       "    .dataframe tbody tr th:only-of-type {\n",
       "        vertical-align: middle;\n",
       "    }\n",
       "\n",
       "    .dataframe tbody tr th {\n",
       "        vertical-align: top;\n",
       "    }\n",
       "\n",
       "    .dataframe thead th {\n",
       "        text-align: right;\n",
       "    }\n",
       "</style>\n",
       "<table border=\"1\" class=\"dataframe\">\n",
       "  <thead>\n",
       "    <tr style=\"text-align: right;\">\n",
       "      <th></th>\n",
       "      <th>0</th>\n",
       "      <th>1</th>\n",
       "      <th>2</th>\n",
       "      <th>3</th>\n",
       "      <th>4</th>\n",
       "    </tr>\n",
       "  </thead>\n",
       "  <tbody>\n",
       "    <tr>\n",
       "      <th>0</th>\n",
       "      <td>5153.0</td>\n",
       "      <td>1.0</td>\n",
       "      <td>121.0</td>\n",
       "      <td>1.0</td>\n",
       "      <td>13.0</td>\n",
       "    </tr>\n",
       "    <tr>\n",
       "      <th>1</th>\n",
       "      <td>163.0</td>\n",
       "      <td>4258.0</td>\n",
       "      <td>200.0</td>\n",
       "      <td>0.0</td>\n",
       "      <td>606.0</td>\n",
       "    </tr>\n",
       "    <tr>\n",
       "      <th>2</th>\n",
       "      <td>201.0</td>\n",
       "      <td>1.0</td>\n",
       "      <td>4367.0</td>\n",
       "      <td>454.0</td>\n",
       "      <td>1.0</td>\n",
       "    </tr>\n",
       "    <tr>\n",
       "      <th>3</th>\n",
       "      <td>479.0</td>\n",
       "      <td>2.0</td>\n",
       "      <td>1641.0</td>\n",
       "      <td>2993.0</td>\n",
       "      <td>0.0</td>\n",
       "    </tr>\n",
       "    <tr>\n",
       "      <th>4</th>\n",
       "      <td>218.0</td>\n",
       "      <td>12.0</td>\n",
       "      <td>13.0</td>\n",
       "      <td>0.0</td>\n",
       "      <td>1086.0</td>\n",
       "    </tr>\n",
       "  </tbody>\n",
       "</table>\n",
       "</div>"
      ],
      "text/plain": [
       "        0       1       2       3       4\n",
       "0  5153.0     1.0   121.0     1.0    13.0\n",
       "1   163.0  4258.0   200.0     0.0   606.0\n",
       "2   201.0     1.0  4367.0   454.0     1.0\n",
       "3   479.0     2.0  1641.0  2993.0     0.0\n",
       "4   218.0    12.0    13.0     0.0  1086.0"
      ]
     },
     "execution_count": 21,
     "metadata": {},
     "output_type": "execute_result"
    }
   ],
   "source": [
    "pd.DataFrame(conf_mat)"
   ]
  },
  {
   "cell_type": "code",
   "execution_count": 21,
   "id": "fd37c9ca",
   "metadata": {},
   "outputs": [],
   "source": [
    "o_preds=[]\n",
    "o_true=[]\n",
    "with torch.no_grad():\n",
    "    for x,y in outsidetest_iter:\n",
    "        x=x.to(device)\n",
    "        y=y.to(device)\n",
    "        output=model(x)\n",
    "        output=output.argmax(dim=1)\n",
    "        o_preds.extend(output.detach().cpu().numpy())\n",
    "        o_true.extend(y.detach().cpu().numpy())"
   ]
  },
  {
   "cell_type": "code",
   "execution_count": 22,
   "id": "031c9e88",
   "metadata": {},
   "outputs": [
    {
     "data": {
      "text/plain": [
       "0.8122725618631732"
      ]
     },
     "execution_count": 22,
     "metadata": {},
     "output_type": "execute_result"
    }
   ],
   "source": [
    "accuracy_score(o_true,o_preds)"
   ]
  },
  {
   "cell_type": "code",
   "execution_count": 23,
   "id": "a99a935d",
   "metadata": {},
   "outputs": [
    {
     "data": {
      "text/plain": [
       "0.8120855744908824"
      ]
     },
     "execution_count": 23,
     "metadata": {},
     "output_type": "execute_result"
    }
   ],
   "source": [
    "recall_score(o_true,o_preds,average='macro')"
   ]
  },
  {
   "cell_type": "code",
   "execution_count": 24,
   "id": "cdaac10e",
   "metadata": {},
   "outputs": [
    {
     "data": {
      "text/plain": [
       "0.7950807738527691"
      ]
     },
     "execution_count": 24,
     "metadata": {},
     "output_type": "execute_result"
    }
   ],
   "source": [
    "f1_score(o_true,o_preds,average='macro')"
   ]
  },
  {
   "cell_type": "code",
   "execution_count": 25,
   "id": "a65b3601",
   "metadata": {},
   "outputs": [
    {
     "data": {
      "text/plain": [
       "0.8037426451293062"
      ]
     },
     "execution_count": 25,
     "metadata": {},
     "output_type": "execute_result"
    }
   ],
   "source": [
    "precision_score(o_true,o_preds,average='macro')"
   ]
  },
  {
   "cell_type": "code",
   "execution_count": 26,
   "id": "36127220",
   "metadata": {},
   "outputs": [],
   "source": [
    "test_trues=label_binarize(o_true,classes=[i for i in range(5)])\n",
    "test_preds=label_binarize(o_preds,classes=[i for i in range(5)])"
   ]
  },
  {
   "cell_type": "code",
   "execution_count": 27,
   "id": "2565cbf9",
   "metadata": {},
   "outputs": [
    {
     "data": {
      "text/plain": [
       "0.8826703511644832"
      ]
     },
     "execution_count": 27,
     "metadata": {},
     "output_type": "execute_result"
    }
   ],
   "source": [
    "roc_auc_score(test_trues.ravel(),test_preds.ravel())"
   ]
  },
  {
   "cell_type": "code",
   "execution_count": null,
   "id": "c1ae2bdd",
   "metadata": {},
   "outputs": [],
   "source": []
  }
 ],
 "metadata": {
  "kernelspec": {
   "display_name": "Python 3",
   "language": "python",
   "name": "python3"
  },
  "language_info": {
   "codemirror_mode": {
    "name": "ipython",
    "version": 3
   },
   "file_extension": ".py",
   "mimetype": "text/x-python",
   "name": "python",
   "nbconvert_exporter": "python",
   "pygments_lexer": "ipython3",
   "version": "3.8.8"
  }
 },
 "nbformat": 4,
 "nbformat_minor": 5
}
