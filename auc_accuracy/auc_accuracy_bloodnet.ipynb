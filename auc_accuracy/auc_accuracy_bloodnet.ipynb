{
 "cells": [
  {
   "cell_type": "code",
   "execution_count": 1,
   "id": "1f8c0dc6",
   "metadata": {},
   "outputs": [],
   "source": [
    "import os\n",
    "os.environ[\"KMP_DUPLICATE_LIB_OK\"]  =  \"TRUE\"\n",
    "import collections\n",
    "import math\n",
    "import os\n",
    "import shutil\n",
    "import pandas as pd\n",
    "import torch\n",
    "import torchvision\n",
    "from torch import nn\n",
    "from d2l import torch as d2l\n",
    "#import d2lzh_pytorch as d2ll\n",
    "import torch.nn.functional as F\n",
    "import numpy as np\n",
    "import torch\n",
    "from torch import nn\n",
    "from torch.nn import init"
   ]
  },
  {
   "cell_type": "code",
   "execution_count": 2,
   "id": "3a65ef61",
   "metadata": {},
   "outputs": [
    {
     "data": {
      "text/plain": [
       "True"
      ]
     },
     "execution_count": 2,
     "metadata": {},
     "output_type": "execute_result"
    }
   ],
   "source": [
    "torch.cuda.is_available()"
   ]
  },
  {
   "cell_type": "code",
   "execution_count": 3,
   "id": "43bde229",
   "metadata": {},
   "outputs": [],
   "source": [
    "class ChannelAttention(nn.Module):\n",
    "    def __init__(self,channel,reduction=16):\n",
    "        super().__init__()\n",
    "        self.maxpool=nn.AdaptiveMaxPool2d(1)\n",
    "        self.avgpool=nn.AdaptiveAvgPool2d(1)\n",
    "        self.se=nn.Sequential(\n",
    "            nn.Conv2d(channel,channel//reduction,1,bias=False),\n",
    "            nn.ReLU(),\n",
    "            nn.Conv2d(channel//reduction,channel,1,bias=False)\n",
    "        )\n",
    "        self.sigmoid=nn.Sigmoid()\n",
    "    \n",
    "    def forward(self, x) :\n",
    "        max_result=self.maxpool(x)\n",
    "        avg_result=self.avgpool(x)\n",
    "        max_out=self.se(max_result)\n",
    "        avg_out=self.se(avg_result)\n",
    "        output=self.sigmoid(max_out+avg_out)\n",
    "        return output\n",
    "\n",
    "class SpatialAttention(nn.Module):\n",
    "    def __init__(self,kernel_size=7):\n",
    "        super().__init__()\n",
    "        self.conv=nn.Conv2d(2,1,kernel_size=kernel_size,padding=kernel_size//2)\n",
    "        self.sigmoid=nn.Sigmoid()\n",
    "    \n",
    "    def forward(self, x) :\n",
    "        max_result,_=torch.max(x,dim=1,keepdim=True)\n",
    "        avg_result=torch.mean(x,dim=1,keepdim=True)\n",
    "        result=torch.cat([max_result,avg_result],1)\n",
    "        output=self.conv(result)\n",
    "        output=self.sigmoid(output)\n",
    "        return output\n",
    "\n",
    "\n",
    "class CBAMBlock(nn.Module):\n",
    "\n",
    "    def __init__(self, channel=512,reduction=16,kernel_size=7):\n",
    "        super().__init__()\n",
    "        self.ca=ChannelAttention(channel=channel,reduction=reduction)\n",
    "        self.sa=SpatialAttention(kernel_size=kernel_size)\n",
    "\n",
    "\n",
    "    def init_weights(self):\n",
    "        for m in self.modules():\n",
    "            if isinstance(m, nn.Conv2d):\n",
    "                init.kaiming_normal_(m.weight, mode='fan_out')\n",
    "                if m.bias is not None:\n",
    "                    init.constant_(m.bias, 0)\n",
    "            elif isinstance(m, nn.BatchNorm2d):\n",
    "                init.constant_(m.weight, 1)\n",
    "                init.constant_(m.bias, 0)\n",
    "            elif isinstance(m, nn.Linear):\n",
    "                init.normal_(m.weight, std=0.001)\n",
    "                if m.bias is not None:\n",
    "                    init.constant_(m.bias, 0)\n",
    "\n",
    "    def forward(self, x):\n",
    "        b, c, _, _ = x.size()\n",
    "        #residual=x\n",
    "        out=x*self.ca(x)\n",
    "        out=out*self.sa(out)\n",
    "        return out#+residual\n",
    "\n",
    "\n",
    "class cbamResidual(nn.Module):  #@save\n",
    "    def __init__(self, input_channels, num_channels,\n",
    "                 use_1x1conv=False, strides=1,reduction=16):\n",
    "        super().__init__()\n",
    "        self.conv1 = nn.Conv2d(input_channels, num_channels,\n",
    "                               kernel_size=3, padding=1, stride=strides)\n",
    "        self.conv2 = nn.Conv2d(num_channels, num_channels,\n",
    "                               kernel_size=3, padding=1)\n",
    "        if use_1x1conv:\n",
    "            self.conv3 = nn.Conv2d(input_channels, num_channels,\n",
    "                                   kernel_size=1, stride=strides)\n",
    "        else:\n",
    "            self.conv3 = None\n",
    "        self.bn1 = nn.BatchNorm2d(num_channels)\n",
    "        self.bn2 = nn.BatchNorm2d(num_channels)\n",
    "        self.se =  CBAMBlock(num_channels, reduction)\n",
    "        self.relu = nn.ReLU(inplace=True)\n",
    "\n",
    "    def forward(self, X):\n",
    "        Y = F.relu(self.bn1(self.conv1(X)))\n",
    "        Y = self.se(self.bn2(self.conv2(Y)))\n",
    "        if self.conv3:\n",
    "            X = self.conv3(X)\n",
    "        Y += X\n",
    "        return F.relu(Y)\n",
    "    \n",
    "def bloodnet(num_classes, in_channels=1):\n",
    "    \n",
    "    def resnet_block(in_channels, out_channels, num_residuals,\n",
    "                     first_block=False):\n",
    "        blk = []\n",
    "        for i in range(num_residuals):\n",
    "            if i == 0 and not first_block:\n",
    "                blk.append(cbamResidual(in_channels, out_channels,\n",
    "                                        use_1x1conv=True, strides=2))\n",
    "            else:\n",
    "                blk.append(cbamResidual(out_channels, out_channels))\n",
    "        return nn.Sequential(*blk)\n",
    "\n",
    "    \n",
    "    net = nn.Sequential(\n",
    "        nn.Conv2d(in_channels, 64, kernel_size=3, stride=1, padding=1),\n",
    "        nn.BatchNorm2d(64),\n",
    "        nn.ReLU())\n",
    "    net.add_module(\"resnet_block1\", resnet_block(64, 64, 3, first_block=True))\n",
    "    net.add_module(\"resnet_block2\", resnet_block(64, 128, 4))\n",
    "    net.add_module(\"resnet_block3\", resnet_block(128, 256, 6))\n",
    "    net.add_module(\"resnet_block4\", resnet_block(256, 512, 3))\n",
    "    net.add_module(\"global_avg_pool\", nn.AdaptiveAvgPool2d((1,1)))\n",
    "    net.add_module(\"fc\", nn.Sequential(nn.Flatten(),\n",
    "                                       nn.Linear(512, num_classes)))\n",
    "    return net\n",
    "\n",
    "\n",
    "def get_net():\n",
    "    num_classes = 5\n",
    "    net = bloodnet(num_classes, 3)\n",
    "    return net\n",
    "\n",
    "a=get_net()"
   ]
  },
  {
   "cell_type": "code",
   "execution_count": 4,
   "id": "95da7385",
   "metadata": {},
   "outputs": [],
   "source": [
    "a.load_state_dict(torch.load('./aaa/aaa/network_params.pth'))\n",
    "model=a.eval()"
   ]
  },
  {
   "cell_type": "code",
   "execution_count": 5,
   "id": "7cac40ba",
   "metadata": {},
   "outputs": [
    {
     "data": {
      "text/plain": [
       "Sequential(\n",
       "  (0): Conv2d(3, 64, kernel_size=(3, 3), stride=(1, 1), padding=(1, 1))\n",
       "  (1): BatchNorm2d(64, eps=1e-05, momentum=0.1, affine=True, track_running_stats=True)\n",
       "  (2): ReLU()\n",
       "  (resnet_block1): Sequential(\n",
       "    (0): cbamResidual(\n",
       "      (conv1): Conv2d(64, 64, kernel_size=(3, 3), stride=(1, 1), padding=(1, 1))\n",
       "      (conv2): Conv2d(64, 64, kernel_size=(3, 3), stride=(1, 1), padding=(1, 1))\n",
       "      (bn1): BatchNorm2d(64, eps=1e-05, momentum=0.1, affine=True, track_running_stats=True)\n",
       "      (bn2): BatchNorm2d(64, eps=1e-05, momentum=0.1, affine=True, track_running_stats=True)\n",
       "      (se): CBAMBlock(\n",
       "        (ca): ChannelAttention(\n",
       "          (maxpool): AdaptiveMaxPool2d(output_size=1)\n",
       "          (avgpool): AdaptiveAvgPool2d(output_size=1)\n",
       "          (se): Sequential(\n",
       "            (0): Conv2d(64, 4, kernel_size=(1, 1), stride=(1, 1), bias=False)\n",
       "            (1): ReLU()\n",
       "            (2): Conv2d(4, 64, kernel_size=(1, 1), stride=(1, 1), bias=False)\n",
       "          )\n",
       "          (sigmoid): Sigmoid()\n",
       "        )\n",
       "        (sa): SpatialAttention(\n",
       "          (conv): Conv2d(2, 1, kernel_size=(7, 7), stride=(1, 1), padding=(3, 3))\n",
       "          (sigmoid): Sigmoid()\n",
       "        )\n",
       "      )\n",
       "      (relu): ReLU(inplace=True)\n",
       "    )\n",
       "    (1): cbamResidual(\n",
       "      (conv1): Conv2d(64, 64, kernel_size=(3, 3), stride=(1, 1), padding=(1, 1))\n",
       "      (conv2): Conv2d(64, 64, kernel_size=(3, 3), stride=(1, 1), padding=(1, 1))\n",
       "      (bn1): BatchNorm2d(64, eps=1e-05, momentum=0.1, affine=True, track_running_stats=True)\n",
       "      (bn2): BatchNorm2d(64, eps=1e-05, momentum=0.1, affine=True, track_running_stats=True)\n",
       "      (se): CBAMBlock(\n",
       "        (ca): ChannelAttention(\n",
       "          (maxpool): AdaptiveMaxPool2d(output_size=1)\n",
       "          (avgpool): AdaptiveAvgPool2d(output_size=1)\n",
       "          (se): Sequential(\n",
       "            (0): Conv2d(64, 4, kernel_size=(1, 1), stride=(1, 1), bias=False)\n",
       "            (1): ReLU()\n",
       "            (2): Conv2d(4, 64, kernel_size=(1, 1), stride=(1, 1), bias=False)\n",
       "          )\n",
       "          (sigmoid): Sigmoid()\n",
       "        )\n",
       "        (sa): SpatialAttention(\n",
       "          (conv): Conv2d(2, 1, kernel_size=(7, 7), stride=(1, 1), padding=(3, 3))\n",
       "          (sigmoid): Sigmoid()\n",
       "        )\n",
       "      )\n",
       "      (relu): ReLU(inplace=True)\n",
       "    )\n",
       "    (2): cbamResidual(\n",
       "      (conv1): Conv2d(64, 64, kernel_size=(3, 3), stride=(1, 1), padding=(1, 1))\n",
       "      (conv2): Conv2d(64, 64, kernel_size=(3, 3), stride=(1, 1), padding=(1, 1))\n",
       "      (bn1): BatchNorm2d(64, eps=1e-05, momentum=0.1, affine=True, track_running_stats=True)\n",
       "      (bn2): BatchNorm2d(64, eps=1e-05, momentum=0.1, affine=True, track_running_stats=True)\n",
       "      (se): CBAMBlock(\n",
       "        (ca): ChannelAttention(\n",
       "          (maxpool): AdaptiveMaxPool2d(output_size=1)\n",
       "          (avgpool): AdaptiveAvgPool2d(output_size=1)\n",
       "          (se): Sequential(\n",
       "            (0): Conv2d(64, 4, kernel_size=(1, 1), stride=(1, 1), bias=False)\n",
       "            (1): ReLU()\n",
       "            (2): Conv2d(4, 64, kernel_size=(1, 1), stride=(1, 1), bias=False)\n",
       "          )\n",
       "          (sigmoid): Sigmoid()\n",
       "        )\n",
       "        (sa): SpatialAttention(\n",
       "          (conv): Conv2d(2, 1, kernel_size=(7, 7), stride=(1, 1), padding=(3, 3))\n",
       "          (sigmoid): Sigmoid()\n",
       "        )\n",
       "      )\n",
       "      (relu): ReLU(inplace=True)\n",
       "    )\n",
       "  )\n",
       "  (resnet_block2): Sequential(\n",
       "    (0): cbamResidual(\n",
       "      (conv1): Conv2d(64, 128, kernel_size=(3, 3), stride=(2, 2), padding=(1, 1))\n",
       "      (conv2): Conv2d(128, 128, kernel_size=(3, 3), stride=(1, 1), padding=(1, 1))\n",
       "      (conv3): Conv2d(64, 128, kernel_size=(1, 1), stride=(2, 2))\n",
       "      (bn1): BatchNorm2d(128, eps=1e-05, momentum=0.1, affine=True, track_running_stats=True)\n",
       "      (bn2): BatchNorm2d(128, eps=1e-05, momentum=0.1, affine=True, track_running_stats=True)\n",
       "      (se): CBAMBlock(\n",
       "        (ca): ChannelAttention(\n",
       "          (maxpool): AdaptiveMaxPool2d(output_size=1)\n",
       "          (avgpool): AdaptiveAvgPool2d(output_size=1)\n",
       "          (se): Sequential(\n",
       "            (0): Conv2d(128, 8, kernel_size=(1, 1), stride=(1, 1), bias=False)\n",
       "            (1): ReLU()\n",
       "            (2): Conv2d(8, 128, kernel_size=(1, 1), stride=(1, 1), bias=False)\n",
       "          )\n",
       "          (sigmoid): Sigmoid()\n",
       "        )\n",
       "        (sa): SpatialAttention(\n",
       "          (conv): Conv2d(2, 1, kernel_size=(7, 7), stride=(1, 1), padding=(3, 3))\n",
       "          (sigmoid): Sigmoid()\n",
       "        )\n",
       "      )\n",
       "      (relu): ReLU(inplace=True)\n",
       "    )\n",
       "    (1): cbamResidual(\n",
       "      (conv1): Conv2d(128, 128, kernel_size=(3, 3), stride=(1, 1), padding=(1, 1))\n",
       "      (conv2): Conv2d(128, 128, kernel_size=(3, 3), stride=(1, 1), padding=(1, 1))\n",
       "      (bn1): BatchNorm2d(128, eps=1e-05, momentum=0.1, affine=True, track_running_stats=True)\n",
       "      (bn2): BatchNorm2d(128, eps=1e-05, momentum=0.1, affine=True, track_running_stats=True)\n",
       "      (se): CBAMBlock(\n",
       "        (ca): ChannelAttention(\n",
       "          (maxpool): AdaptiveMaxPool2d(output_size=1)\n",
       "          (avgpool): AdaptiveAvgPool2d(output_size=1)\n",
       "          (se): Sequential(\n",
       "            (0): Conv2d(128, 8, kernel_size=(1, 1), stride=(1, 1), bias=False)\n",
       "            (1): ReLU()\n",
       "            (2): Conv2d(8, 128, kernel_size=(1, 1), stride=(1, 1), bias=False)\n",
       "          )\n",
       "          (sigmoid): Sigmoid()\n",
       "        )\n",
       "        (sa): SpatialAttention(\n",
       "          (conv): Conv2d(2, 1, kernel_size=(7, 7), stride=(1, 1), padding=(3, 3))\n",
       "          (sigmoid): Sigmoid()\n",
       "        )\n",
       "      )\n",
       "      (relu): ReLU(inplace=True)\n",
       "    )\n",
       "    (2): cbamResidual(\n",
       "      (conv1): Conv2d(128, 128, kernel_size=(3, 3), stride=(1, 1), padding=(1, 1))\n",
       "      (conv2): Conv2d(128, 128, kernel_size=(3, 3), stride=(1, 1), padding=(1, 1))\n",
       "      (bn1): BatchNorm2d(128, eps=1e-05, momentum=0.1, affine=True, track_running_stats=True)\n",
       "      (bn2): BatchNorm2d(128, eps=1e-05, momentum=0.1, affine=True, track_running_stats=True)\n",
       "      (se): CBAMBlock(\n",
       "        (ca): ChannelAttention(\n",
       "          (maxpool): AdaptiveMaxPool2d(output_size=1)\n",
       "          (avgpool): AdaptiveAvgPool2d(output_size=1)\n",
       "          (se): Sequential(\n",
       "            (0): Conv2d(128, 8, kernel_size=(1, 1), stride=(1, 1), bias=False)\n",
       "            (1): ReLU()\n",
       "            (2): Conv2d(8, 128, kernel_size=(1, 1), stride=(1, 1), bias=False)\n",
       "          )\n",
       "          (sigmoid): Sigmoid()\n",
       "        )\n",
       "        (sa): SpatialAttention(\n",
       "          (conv): Conv2d(2, 1, kernel_size=(7, 7), stride=(1, 1), padding=(3, 3))\n",
       "          (sigmoid): Sigmoid()\n",
       "        )\n",
       "      )\n",
       "      (relu): ReLU(inplace=True)\n",
       "    )\n",
       "    (3): cbamResidual(\n",
       "      (conv1): Conv2d(128, 128, kernel_size=(3, 3), stride=(1, 1), padding=(1, 1))\n",
       "      (conv2): Conv2d(128, 128, kernel_size=(3, 3), stride=(1, 1), padding=(1, 1))\n",
       "      (bn1): BatchNorm2d(128, eps=1e-05, momentum=0.1, affine=True, track_running_stats=True)\n",
       "      (bn2): BatchNorm2d(128, eps=1e-05, momentum=0.1, affine=True, track_running_stats=True)\n",
       "      (se): CBAMBlock(\n",
       "        (ca): ChannelAttention(\n",
       "          (maxpool): AdaptiveMaxPool2d(output_size=1)\n",
       "          (avgpool): AdaptiveAvgPool2d(output_size=1)\n",
       "          (se): Sequential(\n",
       "            (0): Conv2d(128, 8, kernel_size=(1, 1), stride=(1, 1), bias=False)\n",
       "            (1): ReLU()\n",
       "            (2): Conv2d(8, 128, kernel_size=(1, 1), stride=(1, 1), bias=False)\n",
       "          )\n",
       "          (sigmoid): Sigmoid()\n",
       "        )\n",
       "        (sa): SpatialAttention(\n",
       "          (conv): Conv2d(2, 1, kernel_size=(7, 7), stride=(1, 1), padding=(3, 3))\n",
       "          (sigmoid): Sigmoid()\n",
       "        )\n",
       "      )\n",
       "      (relu): ReLU(inplace=True)\n",
       "    )\n",
       "  )\n",
       "  (resnet_block3): Sequential(\n",
       "    (0): cbamResidual(\n",
       "      (conv1): Conv2d(128, 256, kernel_size=(3, 3), stride=(2, 2), padding=(1, 1))\n",
       "      (conv2): Conv2d(256, 256, kernel_size=(3, 3), stride=(1, 1), padding=(1, 1))\n",
       "      (conv3): Conv2d(128, 256, kernel_size=(1, 1), stride=(2, 2))\n",
       "      (bn1): BatchNorm2d(256, eps=1e-05, momentum=0.1, affine=True, track_running_stats=True)\n",
       "      (bn2): BatchNorm2d(256, eps=1e-05, momentum=0.1, affine=True, track_running_stats=True)\n",
       "      (se): CBAMBlock(\n",
       "        (ca): ChannelAttention(\n",
       "          (maxpool): AdaptiveMaxPool2d(output_size=1)\n",
       "          (avgpool): AdaptiveAvgPool2d(output_size=1)\n",
       "          (se): Sequential(\n",
       "            (0): Conv2d(256, 16, kernel_size=(1, 1), stride=(1, 1), bias=False)\n",
       "            (1): ReLU()\n",
       "            (2): Conv2d(16, 256, kernel_size=(1, 1), stride=(1, 1), bias=False)\n",
       "          )\n",
       "          (sigmoid): Sigmoid()\n",
       "        )\n",
       "        (sa): SpatialAttention(\n",
       "          (conv): Conv2d(2, 1, kernel_size=(7, 7), stride=(1, 1), padding=(3, 3))\n",
       "          (sigmoid): Sigmoid()\n",
       "        )\n",
       "      )\n",
       "      (relu): ReLU(inplace=True)\n",
       "    )\n",
       "    (1): cbamResidual(\n",
       "      (conv1): Conv2d(256, 256, kernel_size=(3, 3), stride=(1, 1), padding=(1, 1))\n",
       "      (conv2): Conv2d(256, 256, kernel_size=(3, 3), stride=(1, 1), padding=(1, 1))\n",
       "      (bn1): BatchNorm2d(256, eps=1e-05, momentum=0.1, affine=True, track_running_stats=True)\n",
       "      (bn2): BatchNorm2d(256, eps=1e-05, momentum=0.1, affine=True, track_running_stats=True)\n",
       "      (se): CBAMBlock(\n",
       "        (ca): ChannelAttention(\n",
       "          (maxpool): AdaptiveMaxPool2d(output_size=1)\n",
       "          (avgpool): AdaptiveAvgPool2d(output_size=1)\n",
       "          (se): Sequential(\n",
       "            (0): Conv2d(256, 16, kernel_size=(1, 1), stride=(1, 1), bias=False)\n",
       "            (1): ReLU()\n",
       "            (2): Conv2d(16, 256, kernel_size=(1, 1), stride=(1, 1), bias=False)\n",
       "          )\n",
       "          (sigmoid): Sigmoid()\n",
       "        )\n",
       "        (sa): SpatialAttention(\n",
       "          (conv): Conv2d(2, 1, kernel_size=(7, 7), stride=(1, 1), padding=(3, 3))\n",
       "          (sigmoid): Sigmoid()\n",
       "        )\n",
       "      )\n",
       "      (relu): ReLU(inplace=True)\n",
       "    )\n",
       "    (2): cbamResidual(\n",
       "      (conv1): Conv2d(256, 256, kernel_size=(3, 3), stride=(1, 1), padding=(1, 1))\n",
       "      (conv2): Conv2d(256, 256, kernel_size=(3, 3), stride=(1, 1), padding=(1, 1))\n",
       "      (bn1): BatchNorm2d(256, eps=1e-05, momentum=0.1, affine=True, track_running_stats=True)\n",
       "      (bn2): BatchNorm2d(256, eps=1e-05, momentum=0.1, affine=True, track_running_stats=True)\n",
       "      (se): CBAMBlock(\n",
       "        (ca): ChannelAttention(\n",
       "          (maxpool): AdaptiveMaxPool2d(output_size=1)\n",
       "          (avgpool): AdaptiveAvgPool2d(output_size=1)\n",
       "          (se): Sequential(\n",
       "            (0): Conv2d(256, 16, kernel_size=(1, 1), stride=(1, 1), bias=False)\n",
       "            (1): ReLU()\n",
       "            (2): Conv2d(16, 256, kernel_size=(1, 1), stride=(1, 1), bias=False)\n",
       "          )\n",
       "          (sigmoid): Sigmoid()\n",
       "        )\n",
       "        (sa): SpatialAttention(\n",
       "          (conv): Conv2d(2, 1, kernel_size=(7, 7), stride=(1, 1), padding=(3, 3))\n",
       "          (sigmoid): Sigmoid()\n",
       "        )\n",
       "      )\n",
       "      (relu): ReLU(inplace=True)\n",
       "    )\n",
       "    (3): cbamResidual(\n",
       "      (conv1): Conv2d(256, 256, kernel_size=(3, 3), stride=(1, 1), padding=(1, 1))\n",
       "      (conv2): Conv2d(256, 256, kernel_size=(3, 3), stride=(1, 1), padding=(1, 1))\n",
       "      (bn1): BatchNorm2d(256, eps=1e-05, momentum=0.1, affine=True, track_running_stats=True)\n",
       "      (bn2): BatchNorm2d(256, eps=1e-05, momentum=0.1, affine=True, track_running_stats=True)\n",
       "      (se): CBAMBlock(\n",
       "        (ca): ChannelAttention(\n",
       "          (maxpool): AdaptiveMaxPool2d(output_size=1)\n",
       "          (avgpool): AdaptiveAvgPool2d(output_size=1)\n",
       "          (se): Sequential(\n",
       "            (0): Conv2d(256, 16, kernel_size=(1, 1), stride=(1, 1), bias=False)\n",
       "            (1): ReLU()\n",
       "            (2): Conv2d(16, 256, kernel_size=(1, 1), stride=(1, 1), bias=False)\n",
       "          )\n",
       "          (sigmoid): Sigmoid()\n",
       "        )\n",
       "        (sa): SpatialAttention(\n",
       "          (conv): Conv2d(2, 1, kernel_size=(7, 7), stride=(1, 1), padding=(3, 3))\n",
       "          (sigmoid): Sigmoid()\n",
       "        )\n",
       "      )\n",
       "      (relu): ReLU(inplace=True)\n",
       "    )\n",
       "    (4): cbamResidual(\n",
       "      (conv1): Conv2d(256, 256, kernel_size=(3, 3), stride=(1, 1), padding=(1, 1))\n",
       "      (conv2): Conv2d(256, 256, kernel_size=(3, 3), stride=(1, 1), padding=(1, 1))\n",
       "      (bn1): BatchNorm2d(256, eps=1e-05, momentum=0.1, affine=True, track_running_stats=True)\n",
       "      (bn2): BatchNorm2d(256, eps=1e-05, momentum=0.1, affine=True, track_running_stats=True)\n",
       "      (se): CBAMBlock(\n",
       "        (ca): ChannelAttention(\n",
       "          (maxpool): AdaptiveMaxPool2d(output_size=1)\n",
       "          (avgpool): AdaptiveAvgPool2d(output_size=1)\n",
       "          (se): Sequential(\n",
       "            (0): Conv2d(256, 16, kernel_size=(1, 1), stride=(1, 1), bias=False)\n",
       "            (1): ReLU()\n",
       "            (2): Conv2d(16, 256, kernel_size=(1, 1), stride=(1, 1), bias=False)\n",
       "          )\n",
       "          (sigmoid): Sigmoid()\n",
       "        )\n",
       "        (sa): SpatialAttention(\n",
       "          (conv): Conv2d(2, 1, kernel_size=(7, 7), stride=(1, 1), padding=(3, 3))\n",
       "          (sigmoid): Sigmoid()\n",
       "        )\n",
       "      )\n",
       "      (relu): ReLU(inplace=True)\n",
       "    )\n",
       "    (5): cbamResidual(\n",
       "      (conv1): Conv2d(256, 256, kernel_size=(3, 3), stride=(1, 1), padding=(1, 1))\n",
       "      (conv2): Conv2d(256, 256, kernel_size=(3, 3), stride=(1, 1), padding=(1, 1))\n",
       "      (bn1): BatchNorm2d(256, eps=1e-05, momentum=0.1, affine=True, track_running_stats=True)\n",
       "      (bn2): BatchNorm2d(256, eps=1e-05, momentum=0.1, affine=True, track_running_stats=True)\n",
       "      (se): CBAMBlock(\n",
       "        (ca): ChannelAttention(\n",
       "          (maxpool): AdaptiveMaxPool2d(output_size=1)\n",
       "          (avgpool): AdaptiveAvgPool2d(output_size=1)\n",
       "          (se): Sequential(\n",
       "            (0): Conv2d(256, 16, kernel_size=(1, 1), stride=(1, 1), bias=False)\n",
       "            (1): ReLU()\n",
       "            (2): Conv2d(16, 256, kernel_size=(1, 1), stride=(1, 1), bias=False)\n",
       "          )\n",
       "          (sigmoid): Sigmoid()\n",
       "        )\n",
       "        (sa): SpatialAttention(\n",
       "          (conv): Conv2d(2, 1, kernel_size=(7, 7), stride=(1, 1), padding=(3, 3))\n",
       "          (sigmoid): Sigmoid()\n",
       "        )\n",
       "      )\n",
       "      (relu): ReLU(inplace=True)\n",
       "    )\n",
       "  )\n",
       "  (resnet_block4): Sequential(\n",
       "    (0): cbamResidual(\n",
       "      (conv1): Conv2d(256, 512, kernel_size=(3, 3), stride=(2, 2), padding=(1, 1))\n",
       "      (conv2): Conv2d(512, 512, kernel_size=(3, 3), stride=(1, 1), padding=(1, 1))\n",
       "      (conv3): Conv2d(256, 512, kernel_size=(1, 1), stride=(2, 2))\n",
       "      (bn1): BatchNorm2d(512, eps=1e-05, momentum=0.1, affine=True, track_running_stats=True)\n",
       "      (bn2): BatchNorm2d(512, eps=1e-05, momentum=0.1, affine=True, track_running_stats=True)\n",
       "      (se): CBAMBlock(\n",
       "        (ca): ChannelAttention(\n",
       "          (maxpool): AdaptiveMaxPool2d(output_size=1)\n",
       "          (avgpool): AdaptiveAvgPool2d(output_size=1)\n",
       "          (se): Sequential(\n",
       "            (0): Conv2d(512, 32, kernel_size=(1, 1), stride=(1, 1), bias=False)\n",
       "            (1): ReLU()\n",
       "            (2): Conv2d(32, 512, kernel_size=(1, 1), stride=(1, 1), bias=False)\n",
       "          )\n",
       "          (sigmoid): Sigmoid()\n",
       "        )\n",
       "        (sa): SpatialAttention(\n",
       "          (conv): Conv2d(2, 1, kernel_size=(7, 7), stride=(1, 1), padding=(3, 3))\n",
       "          (sigmoid): Sigmoid()\n",
       "        )\n",
       "      )\n",
       "      (relu): ReLU(inplace=True)\n",
       "    )\n",
       "    (1): cbamResidual(\n",
       "      (conv1): Conv2d(512, 512, kernel_size=(3, 3), stride=(1, 1), padding=(1, 1))\n",
       "      (conv2): Conv2d(512, 512, kernel_size=(3, 3), stride=(1, 1), padding=(1, 1))\n",
       "      (bn1): BatchNorm2d(512, eps=1e-05, momentum=0.1, affine=True, track_running_stats=True)\n",
       "      (bn2): BatchNorm2d(512, eps=1e-05, momentum=0.1, affine=True, track_running_stats=True)\n",
       "      (se): CBAMBlock(\n",
       "        (ca): ChannelAttention(\n",
       "          (maxpool): AdaptiveMaxPool2d(output_size=1)\n",
       "          (avgpool): AdaptiveAvgPool2d(output_size=1)\n",
       "          (se): Sequential(\n",
       "            (0): Conv2d(512, 32, kernel_size=(1, 1), stride=(1, 1), bias=False)\n",
       "            (1): ReLU()\n",
       "            (2): Conv2d(32, 512, kernel_size=(1, 1), stride=(1, 1), bias=False)\n",
       "          )\n",
       "          (sigmoid): Sigmoid()\n",
       "        )\n",
       "        (sa): SpatialAttention(\n",
       "          (conv): Conv2d(2, 1, kernel_size=(7, 7), stride=(1, 1), padding=(3, 3))\n",
       "          (sigmoid): Sigmoid()\n",
       "        )\n",
       "      )\n",
       "      (relu): ReLU(inplace=True)\n",
       "    )\n",
       "    (2): cbamResidual(\n",
       "      (conv1): Conv2d(512, 512, kernel_size=(3, 3), stride=(1, 1), padding=(1, 1))\n",
       "      (conv2): Conv2d(512, 512, kernel_size=(3, 3), stride=(1, 1), padding=(1, 1))\n",
       "      (bn1): BatchNorm2d(512, eps=1e-05, momentum=0.1, affine=True, track_running_stats=True)\n",
       "      (bn2): BatchNorm2d(512, eps=1e-05, momentum=0.1, affine=True, track_running_stats=True)\n",
       "      (se): CBAMBlock(\n",
       "        (ca): ChannelAttention(\n",
       "          (maxpool): AdaptiveMaxPool2d(output_size=1)\n",
       "          (avgpool): AdaptiveAvgPool2d(output_size=1)\n",
       "          (se): Sequential(\n",
       "            (0): Conv2d(512, 32, kernel_size=(1, 1), stride=(1, 1), bias=False)\n",
       "            (1): ReLU()\n",
       "            (2): Conv2d(32, 512, kernel_size=(1, 1), stride=(1, 1), bias=False)\n",
       "          )\n",
       "          (sigmoid): Sigmoid()\n",
       "        )\n",
       "        (sa): SpatialAttention(\n",
       "          (conv): Conv2d(2, 1, kernel_size=(7, 7), stride=(1, 1), padding=(3, 3))\n",
       "          (sigmoid): Sigmoid()\n",
       "        )\n",
       "      )\n",
       "      (relu): ReLU(inplace=True)\n",
       "    )\n",
       "  )\n",
       "  (global_avg_pool): AdaptiveAvgPool2d(output_size=(1, 1))\n",
       "  (fc): Sequential(\n",
       "    (0): Flatten(start_dim=1, end_dim=-1)\n",
       "    (1): Linear(in_features=512, out_features=5, bias=True)\n",
       "  )\n",
       ")"
      ]
     },
     "execution_count": 5,
     "metadata": {},
     "output_type": "execute_result"
    }
   ],
   "source": [
    "model"
   ]
  },
  {
   "cell_type": "code",
   "execution_count": 13,
   "id": "371c3626",
   "metadata": {},
   "outputs": [],
   "source": [
    "datadir=\"/home/omnisky/shenxiaochen/\"\n",
    "transform_test = torchvision.transforms.Compose([\n",
    "\n",
    "    torchvision.transforms.CenterCrop(96),\n",
    "    torchvision.transforms.ToTensor(),\n",
    "    torchvision.transforms.Normalize([0.4914, 0.4822, 0.4465],\n",
    "                                     [0.2023, 0.1994, 0.2010])])\n",
    "\n",
    "test_ds= torchvision.datasets.ImageFolder(\n",
    "    os.path.join(datadir, 'test'),\n",
    "    transform=transform_test)\n",
    "\n",
    "batch_size=128\n",
    "test_iter = torch.utils.data.DataLoader(test_ds, batch_size, shuffle=False,\n",
    "                                        drop_last=False)"
   ]
  },
  {
   "cell_type": "code",
   "execution_count": 14,
   "id": "09462508",
   "metadata": {},
   "outputs": [],
   "source": [
    "device=d2l.try_gpu()"
   ]
  },
  {
   "cell_type": "code",
   "execution_count": 15,
   "id": "6ebc6076",
   "metadata": {},
   "outputs": [],
   "source": [
    "# confusion matrix\n",
    "model.to(device)\n",
    "model.eval()\n",
    "conf_mat=np.zeros((5,5))\n",
    "for i,data in enumerate(test_iter):\n",
    "    inputs, labels=data\n",
    "    inputs, labels= inputs.to(device), labels.to(device)\n",
    "    with torch.no_grad():\n",
    "        outputs=model(inputs)\n",
    "        _, predicted = torch.max(outputs.data,1)\n",
    "        for j in range(len(labels)):\n",
    "            cate_i=labels[j].cpu().numpy()\n",
    "            pre_i =predicted[j].cpu().numpy()\n",
    "            conf_mat[cate_i,pre_i]+=1"
   ]
  },
  {
   "cell_type": "code",
   "execution_count": 16,
   "id": "91a5ebde",
   "metadata": {},
   "outputs": [],
   "source": [
    "valid_confusematrix=pd.DataFrame(conf_mat)"
   ]
  },
  {
   "cell_type": "code",
   "execution_count": 17,
   "id": "52c1527d",
   "metadata": {},
   "outputs": [
    {
     "data": {
      "text/html": [
       "<div>\n",
       "<style scoped>\n",
       "    .dataframe tbody tr th:only-of-type {\n",
       "        vertical-align: middle;\n",
       "    }\n",
       "\n",
       "    .dataframe tbody tr th {\n",
       "        vertical-align: top;\n",
       "    }\n",
       "\n",
       "    .dataframe thead th {\n",
       "        text-align: right;\n",
       "    }\n",
       "</style>\n",
       "<table border=\"1\" class=\"dataframe\">\n",
       "  <thead>\n",
       "    <tr style=\"text-align: right;\">\n",
       "      <th></th>\n",
       "      <th>0</th>\n",
       "      <th>1</th>\n",
       "      <th>2</th>\n",
       "      <th>3</th>\n",
       "      <th>4</th>\n",
       "    </tr>\n",
       "  </thead>\n",
       "  <tbody>\n",
       "    <tr>\n",
       "      <th>0</th>\n",
       "      <td>1069.0</td>\n",
       "      <td>1.0</td>\n",
       "      <td>4.0</td>\n",
       "      <td>2.0</td>\n",
       "      <td>0.0</td>\n",
       "    </tr>\n",
       "    <tr>\n",
       "      <th>1</th>\n",
       "      <td>0.0</td>\n",
       "      <td>1147.0</td>\n",
       "      <td>0.0</td>\n",
       "      <td>0.0</td>\n",
       "      <td>1.0</td>\n",
       "    </tr>\n",
       "    <tr>\n",
       "      <th>2</th>\n",
       "      <td>9.0</td>\n",
       "      <td>0.0</td>\n",
       "      <td>938.0</td>\n",
       "      <td>15.0</td>\n",
       "      <td>0.0</td>\n",
       "    </tr>\n",
       "    <tr>\n",
       "      <th>3</th>\n",
       "      <td>2.0</td>\n",
       "      <td>0.0</td>\n",
       "      <td>21.0</td>\n",
       "      <td>987.0</td>\n",
       "      <td>0.0</td>\n",
       "    </tr>\n",
       "    <tr>\n",
       "      <th>4</th>\n",
       "      <td>1.0</td>\n",
       "      <td>1.0</td>\n",
       "      <td>0.0</td>\n",
       "      <td>0.0</td>\n",
       "      <td>1016.0</td>\n",
       "    </tr>\n",
       "  </tbody>\n",
       "</table>\n",
       "</div>"
      ],
      "text/plain": [
       "        0       1      2      3       4\n",
       "0  1069.0     1.0    4.0    2.0     0.0\n",
       "1     0.0  1147.0    0.0    0.0     1.0\n",
       "2     9.0     0.0  938.0   15.0     0.0\n",
       "3     2.0     0.0   21.0  987.0     0.0\n",
       "4     1.0     1.0    0.0    0.0  1016.0"
      ]
     },
     "execution_count": 17,
     "metadata": {},
     "output_type": "execute_result"
    }
   ],
   "source": [
    "valid_confusematrix"
   ]
  },
  {
   "cell_type": "code",
   "execution_count": 12,
   "id": "2120c7f0",
   "metadata": {},
   "outputs": [],
   "source": [
    "valid_confusematrix.to_csv(\"valid_confusematrix.csv\")"
   ]
  },
  {
   "cell_type": "code",
   "execution_count": 15,
   "id": "ed8bee9a",
   "metadata": {},
   "outputs": [
    {
     "data": {
      "text/plain": [
       "0.9890678941311852"
      ]
     },
     "execution_count": 15,
     "metadata": {},
     "output_type": "execute_result"
    }
   ],
   "source": [
    "conf_mat.trace()/conf_mat.sum()"
   ]
  },
  {
   "cell_type": "code",
   "execution_count": 6,
   "id": "956ed518",
   "metadata": {},
   "outputs": [],
   "source": [
    "def evaluate_accuracy_gpu(net, data_iter, device=None): \n",
    "    \n",
    "    if isinstance(net, torch.nn.Module):\n",
    "        net.eval()  \n",
    "        if not device:\n",
    "            device = next(iter(net.parameters())).device\n",
    "    \n",
    "    metric = d2l.Accumulator(2)\n",
    "    for X, y in data_iter:\n",
    "        if isinstance(X, list):\n",
    "            \n",
    "            X = [x.to(device) for x in X]\n",
    "        else:\n",
    "            X = X.to(device)\n",
    "        y = y.to(device)\n",
    "        metric.add(d2l.accuracy(net(X), y), y.numel())\n",
    "    return metric[0] / metric[1]"
   ]
  },
  {
   "cell_type": "code",
   "execution_count": 7,
   "id": "0322f09a",
   "metadata": {},
   "outputs": [
    {
     "data": {
      "text/plain": [
       "0.9890678941311852"
      ]
     },
     "execution_count": 7,
     "metadata": {},
     "output_type": "execute_result"
    }
   ],
   "source": [
    "# accuracy valid\n",
    "device=d2l.try_gpu()\n",
    "evaluate_accuracy_gpu(model.to(device),test_iter)"
   ]
  },
  {
   "cell_type": "code",
   "execution_count": 8,
   "id": "f7af559b",
   "metadata": {},
   "outputs": [],
   "source": [
    "import numpy as np\n",
    "from sklearn.metrics import roc_auc_score,accuracy_score,precision_score,recall_score,f1_score"
   ]
  },
  {
   "cell_type": "code",
   "execution_count": 9,
   "id": "860c13b2",
   "metadata": {},
   "outputs": [],
   "source": [
    "preds=[]\n",
    "true=[]\n",
    "with torch.no_grad():\n",
    "    for x,y in test_iter:\n",
    "        x=x.to(device)\n",
    "        y=y.to(device)\n",
    "        output=model(x)\n",
    "        output=output.argmax(dim=1)\n",
    "        preds.extend(output.detach().cpu().numpy())\n",
    "        true.extend(y.detach().cpu().numpy())\n",
    "        \n",
    "    "
   ]
  },
  {
   "cell_type": "code",
   "execution_count": 12,
   "id": "03ccc33b",
   "metadata": {},
   "outputs": [
    {
     "data": {
      "text/plain": [
       "0.9890678941311852"
      ]
     },
     "execution_count": 12,
     "metadata": {},
     "output_type": "execute_result"
    }
   ],
   "source": [
    "accuracy_score(true,preds)"
   ]
  },
  {
   "cell_type": "code",
   "execution_count": 13,
   "id": "d166e6e6",
   "metadata": {},
   "outputs": [
    {
     "data": {
      "text/plain": [
       "0.9885876809868922"
      ]
     },
     "execution_count": 13,
     "metadata": {},
     "output_type": "execute_result"
    }
   ],
   "source": [
    "recall_score(true,preds,average='macro')"
   ]
  },
  {
   "cell_type": "code",
   "execution_count": 14,
   "id": "40f04f80",
   "metadata": {},
   "outputs": [
    {
     "data": {
      "text/plain": [
       "0.9886191396291926"
      ]
     },
     "execution_count": 14,
     "metadata": {},
     "output_type": "execute_result"
    }
   ],
   "source": [
    "f1_score(true,preds,average='macro')"
   ]
  },
  {
   "cell_type": "code",
   "execution_count": 15,
   "id": "3cc2eb4d",
   "metadata": {},
   "outputs": [
    {
     "data": {
      "text/plain": [
       "0.9886564856669147"
      ]
     },
     "execution_count": 15,
     "metadata": {},
     "output_type": "execute_result"
    }
   ],
   "source": [
    "precision_score(true,preds,average='macro')"
   ]
  },
  {
   "cell_type": "code",
   "execution_count": 16,
   "id": "c2b189f1",
   "metadata": {},
   "outputs": [],
   "source": [
    "from sklearn.preprocessing import label_binarize"
   ]
  },
  {
   "cell_type": "code",
   "execution_count": 17,
   "id": "f0dd6fa3",
   "metadata": {},
   "outputs": [],
   "source": [
    "test_trues=label_binarize(true,classes=[i for i in range(5)])"
   ]
  },
  {
   "cell_type": "code",
   "execution_count": 19,
   "id": "141e84cf",
   "metadata": {},
   "outputs": [],
   "source": [
    "test_preds=label_binarize(preds,classes=[i for i in range(5)])"
   ]
  },
  {
   "cell_type": "code",
   "execution_count": 21,
   "id": "cb9d9462",
   "metadata": {},
   "outputs": [
    {
     "data": {
      "text/plain": [
       "0.9931674338319908"
      ]
     },
     "execution_count": 21,
     "metadata": {},
     "output_type": "execute_result"
    }
   ],
   "source": [
    "roc_auc_score(test_trues.ravel(),test_preds.ravel())# micro"
   ]
  },
  {
   "cell_type": "code",
   "execution_count": 7,
   "id": "b9260999",
   "metadata": {},
   "outputs": [],
   "source": [
    "outsidetest_ds= torchvision.datasets.ImageFolder(\n",
    "    os.path.join(datadir, 'outside_test'),\n",
    "    transform=transform_test) \n",
    "outsidetest_iter = torch.utils.data.DataLoader(outsidetest_ds, batch_size, shuffle=False,\n",
    "                                        drop_last=False)"
   ]
  },
  {
   "cell_type": "code",
   "execution_count": 11,
   "id": "e856d6aa",
   "metadata": {},
   "outputs": [],
   "source": [
    "# confusion matrix\n",
    "model.to(device)\n",
    "model.eval()\n",
    "conf_mat=np.zeros((5,5))\n",
    "for i,data in enumerate(outsidetest_iter):\n",
    "    inputs, labels=data\n",
    "    inputs, labels= inputs.to(device), labels.to(device)\n",
    "    with torch.no_grad():\n",
    "        outputs=model(inputs)\n",
    "        _, predicted = torch.max(outputs.data,1)\n",
    "        for j in range(len(labels)):\n",
    "            cate_i=labels[j].cpu().numpy()\n",
    "            pre_i =predicted[j].cpu().numpy()\n",
    "            conf_mat[cate_i,pre_i]+=1"
   ]
  },
  {
   "cell_type": "code",
   "execution_count": 12,
   "id": "e52e4818",
   "metadata": {},
   "outputs": [
    {
     "data": {
      "text/html": [
       "<div>\n",
       "<style scoped>\n",
       "    .dataframe tbody tr th:only-of-type {\n",
       "        vertical-align: middle;\n",
       "    }\n",
       "\n",
       "    .dataframe tbody tr th {\n",
       "        vertical-align: top;\n",
       "    }\n",
       "\n",
       "    .dataframe thead th {\n",
       "        text-align: right;\n",
       "    }\n",
       "</style>\n",
       "<table border=\"1\" class=\"dataframe\">\n",
       "  <thead>\n",
       "    <tr style=\"text-align: right;\">\n",
       "      <th></th>\n",
       "      <th>0</th>\n",
       "      <th>1</th>\n",
       "      <th>2</th>\n",
       "      <th>3</th>\n",
       "      <th>4</th>\n",
       "    </tr>\n",
       "  </thead>\n",
       "  <tbody>\n",
       "    <tr>\n",
       "      <th>0</th>\n",
       "      <td>5050.0</td>\n",
       "      <td>1.0</td>\n",
       "      <td>204.0</td>\n",
       "      <td>33.0</td>\n",
       "      <td>1.0</td>\n",
       "    </tr>\n",
       "    <tr>\n",
       "      <th>1</th>\n",
       "      <td>137.0</td>\n",
       "      <td>4404.0</td>\n",
       "      <td>331.0</td>\n",
       "      <td>6.0</td>\n",
       "      <td>349.0</td>\n",
       "    </tr>\n",
       "    <tr>\n",
       "      <th>2</th>\n",
       "      <td>12.0</td>\n",
       "      <td>1.0</td>\n",
       "      <td>3867.0</td>\n",
       "      <td>1142.0</td>\n",
       "      <td>2.0</td>\n",
       "    </tr>\n",
       "    <tr>\n",
       "      <th>3</th>\n",
       "      <td>16.0</td>\n",
       "      <td>1.0</td>\n",
       "      <td>525.0</td>\n",
       "      <td>4572.0</td>\n",
       "      <td>1.0</td>\n",
       "    </tr>\n",
       "    <tr>\n",
       "      <th>4</th>\n",
       "      <td>279.0</td>\n",
       "      <td>9.0</td>\n",
       "      <td>101.0</td>\n",
       "      <td>1.0</td>\n",
       "      <td>939.0</td>\n",
       "    </tr>\n",
       "  </tbody>\n",
       "</table>\n",
       "</div>"
      ],
      "text/plain": [
       "        0       1       2       3      4\n",
       "0  5050.0     1.0   204.0    33.0    1.0\n",
       "1   137.0  4404.0   331.0     6.0  349.0\n",
       "2    12.0     1.0  3867.0  1142.0    2.0\n",
       "3    16.0     1.0   525.0  4572.0    1.0\n",
       "4   279.0     9.0   101.0     1.0  939.0"
      ]
     },
     "execution_count": 12,
     "metadata": {},
     "output_type": "execute_result"
    }
   ],
   "source": [
    "pd.DataFrame(conf_mat)"
   ]
  },
  {
   "cell_type": "code",
   "execution_count": 16,
   "id": "fd5b753a",
   "metadata": {},
   "outputs": [],
   "source": [
    "test_matrix=pd.DataFrame(conf_mat)"
   ]
  },
  {
   "cell_type": "code",
   "execution_count": 18,
   "id": "3bf5aa6b",
   "metadata": {},
   "outputs": [],
   "source": [
    "test_matrix.to_csv(\"test_confusematrix.csv\")"
   ]
  },
  {
   "cell_type": "code",
   "execution_count": 19,
   "id": "d9b47a45",
   "metadata": {},
   "outputs": [
    {
     "data": {
      "text/plain": [
       "0.8566229985443959"
      ]
     },
     "execution_count": 19,
     "metadata": {},
     "output_type": "execute_result"
    }
   ],
   "source": [
    "conf_mat.trace()/conf_mat.sum()"
   ]
  },
  {
   "cell_type": "code",
   "execution_count": 23,
   "id": "f14a2e08",
   "metadata": {},
   "outputs": [
    {
     "data": {
      "text/plain": [
       "0.8566229985443959"
      ]
     },
     "execution_count": 23,
     "metadata": {},
     "output_type": "execute_result"
    }
   ],
   "source": [
    "evaluate_accuracy_gpu(model.to(device),outsidetest_iter)"
   ]
  },
  {
   "cell_type": "code",
   "execution_count": 24,
   "id": "05d677af",
   "metadata": {},
   "outputs": [],
   "source": [
    "o_preds=[]\n",
    "o_true=[]\n",
    "with torch.no_grad():\n",
    "    for x,y in outsidetest_iter:\n",
    "        x=x.to(device)\n",
    "        y=y.to(device)\n",
    "        output=model(x)\n",
    "        output=output.argmax(dim=1)\n",
    "        o_preds.extend(output.detach().cpu().numpy())\n",
    "        o_true.extend(y.detach().cpu().numpy())"
   ]
  },
  {
   "cell_type": "code",
   "execution_count": 25,
   "id": "a1abb3e5",
   "metadata": {},
   "outputs": [
    {
     "data": {
      "text/plain": [
       "21984"
      ]
     },
     "execution_count": 25,
     "metadata": {},
     "output_type": "execute_result"
    }
   ],
   "source": [
    "len(o_preds)"
   ]
  },
  {
   "cell_type": "code",
   "execution_count": 26,
   "id": "f34bf3f2",
   "metadata": {},
   "outputs": [
    {
     "data": {
      "text/plain": [
       "21984"
      ]
     },
     "execution_count": 26,
     "metadata": {},
     "output_type": "execute_result"
    }
   ],
   "source": [
    "len(o_true)"
   ]
  },
  {
   "cell_type": "code",
   "execution_count": 27,
   "id": "13260f84",
   "metadata": {},
   "outputs": [
    {
     "data": {
      "text/plain": [
       "0.8566229985443959"
      ]
     },
     "execution_count": 27,
     "metadata": {},
     "output_type": "execute_result"
    }
   ],
   "source": [
    "accuracy_score(o_true,o_preds)"
   ]
  },
  {
   "cell_type": "code",
   "execution_count": 31,
   "id": "3fe36aeb",
   "metadata": {},
   "outputs": [],
   "source": [
    "test_trues=label_binarize(o_true,classes=[i for i in range(5)])\n",
    "test_preds=label_binarize(o_preds,classes=[i for i in range(5)])"
   ]
  },
  {
   "cell_type": "code",
   "execution_count": 32,
   "id": "954f5a8a",
   "metadata": {},
   "outputs": [
    {
     "data": {
      "text/plain": [
       "0.9103893740902473"
      ]
     },
     "execution_count": 32,
     "metadata": {},
     "output_type": "execute_result"
    }
   ],
   "source": [
    "roc_auc_score(test_trues.ravel(),test_preds.ravel())"
   ]
  },
  {
   "cell_type": "code",
   "execution_count": null,
   "id": "3dc25ee7",
   "metadata": {},
   "outputs": [],
   "source": []
  }
 ],
 "metadata": {
  "kernelspec": {
   "display_name": "Python 3",
   "language": "python",
   "name": "python3"
  },
  "language_info": {
   "codemirror_mode": {
    "name": "ipython",
    "version": 3
   },
   "file_extension": ".py",
   "mimetype": "text/x-python",
   "name": "python",
   "nbconvert_exporter": "python",
   "pygments_lexer": "ipython3",
   "version": "3.8.8"
  }
 },
 "nbformat": 4,
 "nbformat_minor": 5
}
